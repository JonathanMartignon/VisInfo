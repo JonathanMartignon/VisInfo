{
 "cells": [
  {
   "cell_type": "markdown",
   "metadata": {},
   "source": [
    "# Datos de prueba"
   ]
  },
  {
   "cell_type": "code",
   "execution_count": 1,
   "metadata": {},
   "outputs": [],
   "source": [
    "import random as rd"
   ]
  },
  {
   "cell_type": "code",
   "execution_count": 2,
   "metadata": {},
   "outputs": [
    {
     "name": "stdout",
     "output_type": "stream",
     "text": [
      "#afeef7\n"
     ]
    }
   ],
   "source": [
    "color = \"#%06x\" % rd.randint(0, 0xFFFFFF)\n",
    "print(color)"
   ]
  },
  {
   "cell_type": "code",
   "execution_count": 3,
   "metadata": {},
   "outputs": [],
   "source": [
    "def crea_lista():\n",
    "    aux = rd.randint(20,100)\n",
    "    ls = []\n",
    "    l2 = []\n",
    "    for i in range(aux):\n",
    "        ls.append(rd.randint(20,100))\n",
    "        l2.append(rd.randint(20,100))\n",
    "    return ls, l2"
   ]
  },
  {
   "cell_type": "code",
   "execution_count": 4,
   "metadata": {},
   "outputs": [],
   "source": [
    "for i in range(1,5):\n",
    "    if i==1:\n",
    "        x_1, y_1 = crea_lista()\n",
    "    if i == 2:\n",
    "        x_2, y_2 = crea_lista()\n",
    "    if i == 3:\n",
    "        x_3,y_3 = crea_lista()\n",
    "    if i == 4:\n",
    "        x_4,y_4 = crea_lista()\n",
    "        "
   ]
  },
  {
   "cell_type": "code",
   "execution_count": 5,
   "metadata": {},
   "outputs": [
    {
     "name": "stdout",
     "output_type": "stream",
     "text": [
      "x1 = \n",
      " [62, 70, 83, 79, 80, 34, 96, 61, 78, 37, 86, 67, 27, 63, 99, 99, 74, 26, 20, 70, 43, 70, 98, 25, 47, 84, 100, 89, 90, 87, 65, 20, 34, 35, 54, 95, 81, 30, 22, 61, 24, 63, 50, 60, 98, 84, 65, 75]\n",
      "y1 = \n",
      " [53, 35, 87, 74, 56, 43, 83, 28, 48, 76, 57, 64, 32, 45, 61, 75, 49, 49, 46, 25, 37, 29, 27, 35, 65, 59, 58, 53, 39, 81, 71, 71, 90, 49, 49, 54, 85, 40, 63, 35, 44, 82, 67, 84, 95, 66, 25, 60] \n",
      "\n",
      "\n",
      "x2 = \n",
      " [97, 57, 100, 47, 32, 59, 26, 44, 34, 20, 23, 83, 73, 28, 90, 40, 26, 54, 64, 92, 70, 58, 63, 51, 64, 36, 90, 89, 82, 56, 88, 82, 95, 43, 22, 35, 76, 43, 30, 60, 33, 43, 94, 92, 97, 31, 25, 42, 54, 42, 82, 35, 71, 54, 54, 45, 38, 70, 57, 63, 22, 39, 44, 73, 52, 69, 54, 66, 47, 84]\n",
      "y2 = \n",
      " [68, 41, 22, 74, 32, 98, 96, 75, 35, 45, 76, 77, 90, 22, 43, 38, 87, 38, 36, 99, 37, 72, 86, 83, 73, 35, 72, 46, 41, 51, 30, 32, 73, 46, 46, 75, 29, 96, 97, 31, 68, 74, 66, 66, 99, 30, 97, 48, 38, 59, 74, 88, 36, 56, 72, 93, 41, 100, 83, 48, 61, 56, 75, 42, 57, 22, 71, 54, 95, 100] \n",
      "\n",
      "\n",
      "x3 = \n",
      " [58, 26, 50, 39, 100, 63, 68, 22, 21, 43, 96, 50, 26, 47, 85, 20, 87, 33, 45, 41, 99, 69, 75, 36, 53, 26, 33, 55, 37, 97, 84, 24, 82, 44, 89, 52, 74, 87, 32, 94, 48, 31, 27, 79, 61, 61, 33, 74, 97, 34, 89, 64, 53, 63, 29, 80, 49, 87, 68, 77, 47, 55, 46]\n",
      "y3 = \n",
      " [71, 99, 35, 38, 93, 71, 81, 54, 43, 55, 29, 32, 97, 40, 40, 52, 30, 31, 44, 29, 32, 47, 20, 26, 50, 47, 99, 59, 50, 50, 61, 59, 36, 43, 100, 34, 91, 33, 55, 49, 30, 56, 65, 79, 44, 88, 20, 22, 81, 78, 58, 64, 62, 58, 38, 21, 56, 61, 46, 53, 99, 40, 35] \n",
      "\n",
      "\n",
      "x4 = \n",
      " [28, 74, 78, 99, 64, 95, 63, 52, 27, 28, 40, 55, 41, 94, 82, 67, 92, 50, 89, 97, 88, 65, 60, 57, 45, 60, 47, 100, 81, 100, 100, 55, 59, 90, 82, 60, 74, 55, 64, 41, 26, 76, 55, 34, 33, 77, 37, 32, 65, 59, 75, 74, 37, 87, 92, 41, 46, 63, 44]\n",
      "y4 = \n",
      " [77, 78, 54, 95, 56, 44, 71, 86, 58, 51, 59, 69, 87, 55, 39, 96, 62, 33, 81, 78, 36, 59, 49, 86, 33, 72, 65, 37, 30, 55, 88, 49, 40, 98, 39, 76, 66, 30, 96, 92, 74, 47, 68, 87, 36, 58, 60, 66, 59, 81, 80, 69, 23, 61, 46, 87, 89, 68, 42] \n",
      "\n",
      "\n"
     ]
    }
   ],
   "source": [
    "# Datos de prueba\n",
    "print(\"x1 = \\n\",x_1)\n",
    "print(\"y1 = \\n\",y_1,\"\\n\\n\")\n",
    "\n",
    "print(\"x2 = \\n\",x_2)\n",
    "print(\"y2 = \\n\",y_2,\"\\n\\n\")\n",
    "\n",
    "print(\"x3 = \\n\",x_3)\n",
    "print(\"y3 = \\n\",y_3,\"\\n\\n\")\n",
    "\n",
    "print(\"x4 = \\n\",x_4)\n",
    "print(\"y4 = \\n\",y_4,\"\\n\\n\")"
   ]
  },
  {
   "cell_type": "markdown",
   "metadata": {},
   "source": [
    "# Creando la clase"
   ]
  },
  {
   "cell_type": "code",
   "execution_count": 35,
   "metadata": {},
   "outputs": [],
   "source": [
    "\n",
    "\n",
    "class Scatter():\n",
    "    \n",
    "    from matplotlib import pyplot as plt\n",
    "    \n",
    "    '''\n",
    "     @Author Jonathan Martiñón\n",
    "     Función encargada de realizar gráficas de tipo scatter\n",
    "     con apoyo de matplotlib\n",
    "     Manejaremos distintas variables, tales como\n",
    "     \n",
    "     title = Título del gráfico\n",
    "     x_I_lim = Limite inferior en x\n",
    "     x_S_lim = Limite superior en x\n",
    "     y_I_lim = Limite inferior en y\n",
    "     y_S_lim = Limite superior en y\n",
    "     marcador = Marcador usado para graficar\n",
    "     color = Color que queremos usar\n",
    "     gr = Indicador si se desea o no grid\n",
    "     \n",
    "     \n",
    "    \n",
    "    '''\n",
    "\n",
    "    \n",
    "    def __init__(self, title ='',x_I_lim=None,x_S_lim=None,y_I_lim=None,y_S_lim=None,\n",
    "                marcador = '',color = '', gr = True):\n",
    "        self.Tit = title\n",
    "        self.G_rid = gr\n",
    "        self.lim_Sup_x = x_S_lim\n",
    "        self.lim_In_x = x_I_lim\n",
    "        self.lim_Sup_y = y_S_lim\n",
    "        self.lim_In_y = y_I_lim\n",
    "        self.clor = color\n",
    "        self.mark = marcador\n",
    "        self.fig = self.plt.figure\n",
    "    \n",
    "    def lienzo(self,nombre):\n",
    "        #Creamos el lienzo la figura, así mismo pedimos un identificador (nombre)\n",
    "        self.fig = self.plt.figure(nombre)\n",
    "        \n",
    "    def Add_Data(self,x,y, color = '', marcador = ''):\n",
    "        \n",
    "        # Esta función se encargará de añadir los datos a\n",
    "        # Graficar, de tal forma que la podamos llamar 'x' numero\n",
    "        # de veces y así ir añadiendo datos a nuestros gráficos.\n",
    "        #Así mismo indicamos marcador y color propios del set\n",
    "                \n",
    "        self.x = x\n",
    "        self.y = y\n",
    "        self.clor = color\n",
    "        self.mark = marcador\n",
    "        if self.mark != '':\n",
    "            if self.clor != '':\n",
    "                \n",
    "                self.plt.scatter(self.x,self.y,c= self.clor, marker =self.mark) \n",
    "            else:\n",
    "                self.plt.scatter(self.x,self.y,marker = self.mark) \n",
    "                \n",
    "        else:\n",
    "            if self.clor != '':\n",
    "                self.plt.scatter(self.x,self.y,c= self.clor)\n",
    "            else:\n",
    "                self.plt.scatter(self.x,self.y) \n",
    "        \n",
    "    def title(self,t):\n",
    "        \n",
    "        self.tit = t\n",
    "        #En caso de que el usuario lo desee\n",
    "        #Podrá colocar el título de su gráfica\n",
    "        #self.title = self.plt.title(t)\n",
    "        self.plt.title(self.tit)\n",
    "        \n",
    "    def EtiquetaY(self,y):\n",
    "        self.plt.ylabel(y)\n",
    "    \n",
    "    def EtiquetaX(self,x):\n",
    "        \n",
    "        self.plt.xlabel(x)\n",
    "    \n",
    "    def xlim(self,x,y):\n",
    "        #En caso de que el usuario lo desee\n",
    "        #Podrá colocar el límite en x\n",
    "        self.lim_Sup_x = y\n",
    "        self.lim_In_x = x\n",
    "        self.plt.xlim(self.lim_In_x,self.lim_Sup_x)\n",
    "        \n",
    "    def ylim(self,x,y):\n",
    "        #En caso de que el usuario lo desee\n",
    "        #Podrá colocar el límite en y\n",
    "        self.lim_Sup_y = y\n",
    "        self.lim_In_y = x\n",
    "        self.plt.ylim(self.lim_In_y,self.lim_Sup_y)\n",
    "        \n",
    "    def Cuadriculado(self,boo):\n",
    "        \n",
    "        #indicamos si se deseea o no un cuadriculado dentro de nuestra gráfica\n",
    "        \n",
    "        if boo == bool:\n",
    "            self.plt.grid(boo)\n",
    "        else:\n",
    "            print(\"EROR 102; Requiere dato booleano\")\n",
    "        \n",
    "    def Etiquetas(self,boo):\n",
    "        #indicamos si se requiere o no que se muestren nuestras etiquetas\n",
    "        \n",
    "        if type(boo) == bool:\n",
    "            if(boo == True):\n",
    "                self.plt.legend()\n",
    "        else:\n",
    "            print(\"ERROR 102; Requiere dato booleano\")\n",
    "            \n",
    "    \n",
    "    def grafica(self):\n",
    "        #Mostramos la grafica\n",
    "        self.plt.show()"
   ]
  },
  {
   "cell_type": "markdown",
   "metadata": {},
   "source": [
    "# Probando la clase"
   ]
  },
  {
   "cell_type": "code",
   "execution_count": 36,
   "metadata": {},
   "outputs": [],
   "source": [
    "x = Scatter()"
   ]
  },
  {
   "cell_type": "code",
   "execution_count": 37,
   "metadata": {},
   "outputs": [
    {
     "name": "stdout",
     "output_type": "stream",
     "text": [
      "EROR 102; Requiere dato booleano\n"
     ]
    },
    {
     "data": {
      "image/png": "[encoded data removed]",
      "text/plain": [
       "<Figure size 432x288 with 1 Axes>"
      ]
     },
     "metadata": {
      "needs_background": "light"
     },
     "output_type": "display_data"
    }
   ],
   "source": [
    "x.lienzo('Hola')\n",
    "x.title('Prueba 1')\n",
    "x.Add_Data(x_1,y_1,'red','+')\n",
    "x.Add_Data(x_2,y_2,'black','o')\n",
    "x.Add_Data(x_3,y_3,'yellow','v')\n",
    "x.EtiquetaX('Posicion X')\n",
    "x.EtiquetaY(\"Posición Y\")\n",
    "x.xlim(19,102)\n",
    "x.ylim(19,102)\n",
    "x.Cuadriculado(False)\n",
    "x.grafica()"
   ]
  }
 ],
 "metadata": {
  "kernelspec": {
   "display_name": "Python 3",
   "language": "python",
   "name": "python3"
  },
  "language_info": {
   "codemirror_mode": {
    "name": "ipython",
    "version": 3
   },
   "file_extension": ".py",
   "mimetype": "text/x-python",
   "name": "python",
   "nbconvert_exporter": "python",
   "pygments_lexer": "ipython3",
   "version": "3.7.3"
  }
 },
 "nbformat": 4,
 "nbformat_minor": 2
}
