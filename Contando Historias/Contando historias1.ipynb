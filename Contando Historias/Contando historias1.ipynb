{
 "cells": [
  {
   "cell_type": "markdown",
   "metadata": {},
   "source": [
    "# Con base en la tabla de datos mostrada en la diapositiva 4 de la presentación Introducción a la Visualización, realizar lo siguiente:\n"
   ]
  },
  {
   "cell_type": "markdown",
   "metadata": {},
   "source": [
    "### Crear un archivo de esos datos en el formato CSV y leerlo en un Dataframe de Pandas."
   ]
  },
  {
   "cell_type": "code",
   "execution_count": 1,
   "metadata": {},
   "outputs": [],
   "source": [
    "import pandas as pd"
   ]
  },
  {
   "cell_type": "code",
   "execution_count": 2,
   "metadata": {},
   "outputs": [
    {
     "data": {
      "text/html": [
       "<div>\n",
       "<style scoped>\n",
       "    .dataframe tbody tr th:only-of-type {\n",
       "        vertical-align: middle;\n",
       "    }\n",
       "\n",
       "    .dataframe tbody tr th {\n",
       "        vertical-align: top;\n",
       "    }\n",
       "\n",
       "    .dataframe thead th {\n",
       "        text-align: right;\n",
       "    }\n",
       "</style>\n",
       "<table border=\"1\" class=\"dataframe\">\n",
       "  <thead>\n",
       "    <tr style=\"text-align: right;\">\n",
       "      <th></th>\n",
       "      <th>Proc.</th>\n",
       "      <th>Time [s]</th>\n",
       "    </tr>\n",
       "  </thead>\n",
       "  <tbody>\n",
       "    <tr>\n",
       "      <td>0</td>\n",
       "      <td>1</td>\n",
       "      <td>29278</td>\n",
       "    </tr>\n",
       "    <tr>\n",
       "      <td>1</td>\n",
       "      <td>16</td>\n",
       "      <td>178</td>\n",
       "    </tr>\n",
       "    <tr>\n",
       "      <td>2</td>\n",
       "      <td>25</td>\n",
       "      <td>78</td>\n",
       "    </tr>\n",
       "    <tr>\n",
       "      <td>3</td>\n",
       "      <td>64</td>\n",
       "      <td>16</td>\n",
       "    </tr>\n",
       "    <tr>\n",
       "      <td>4</td>\n",
       "      <td>256</td>\n",
       "      <td>2</td>\n",
       "    </tr>\n",
       "    <tr>\n",
       "      <td>5</td>\n",
       "      <td>400</td>\n",
       "      <td>1</td>\n",
       "    </tr>\n",
       "  </tbody>\n",
       "</table>\n",
       "</div>"
      ],
      "text/plain": [
       "   Proc.  Time [s]\n",
       "0      1     29278\n",
       "1     16       178\n",
       "2     25        78\n",
       "3     64        16\n",
       "4    256         2\n",
       "5    400         1"
      ]
     },
     "execution_count": 2,
     "metadata": {},
     "output_type": "execute_result"
    }
   ],
   "source": [
    "data = pd.read_csv('Data.csv')\n",
    "data"
   ]
  },
  {
   "cell_type": "markdown",
   "metadata": {},
   "source": [
    "### Completar las columnas de Speeup, Efficiency y Cost usando las fórmulas mostradas en la diapositiva 6, tanto para el caso absoluto como para el caso relativo con p' = 16. Agregar estos datos al dataframe antes creado y realizar los gráficos correspondientes usando Matplotlib."
   ]
  },
  {
   "cell_type": "code",
   "execution_count": 3,
   "metadata": {},
   "outputs": [],
   "source": [
    "import matplotlib.pyplot as plt"
   ]
  },
  {
   "cell_type": "code",
   "execution_count": 4,
   "metadata": {},
   "outputs": [],
   "source": [
    "Speedup = []\n",
    "Efficiency = []\n",
    "Cost = []\n",
    "S_rel = []\n",
    "E_rel = []\n",
    "Max_a_rel = []"
   ]
  },
  {
   "cell_type": "code",
   "execution_count": 5,
   "metadata": {},
   "outputs": [
    {
     "name": "stdout",
     "output_type": "stream",
     "text": [
      "29278 / 29278 = 1.0\n",
      "29278 / 178 = 164.48314606741573\n",
      "29278 / 78 = 375.35897435897436\n",
      "29278 / 16 = 1829.875\n",
      "29278 / 2 = 14639.0\n",
      "29278 / 1 = 29278.0\n"
     ]
    }
   ],
   "source": [
    "#Calculando el Speedup ABSOLUTO\n",
    "for i in data['Time [s]']:\n",
    "    aux = data['Time [s]'][0] / i\n",
    "    print(data['Time [s]'][0] ,\"/\", i,\"=\",aux)\n",
    "    Speedup.append(aux)\n",
    "# Speedup"
   ]
  },
  {
   "cell_type": "code",
   "execution_count": 6,
   "metadata": {},
   "outputs": [
    {
     "name": "stdout",
     "output_type": "stream",
     "text": [
      "1.0 / 1 = 1.0\n",
      "164.48314606741573 / 16 = 10.280196629213483\n",
      "375.35897435897436 / 25 = 15.014358974358975\n",
      "1829.875 / 64 = 28.591796875\n",
      "14639.0 / 256 = 57.18359375\n",
      "29278.0 / 400 = 73.195\n"
     ]
    }
   ],
   "source": [
    "#Calculando la eficiencia ABSOLUTA\n",
    "k=0\n",
    "for i in Speedup:\n",
    "    aux = i / data['Proc.'][k]\n",
    "    print(i,\"/\", data['Proc.'][k],\"=\",aux)\n",
    "    Efficiency.append(aux)\n",
    "    k+=1\n",
    "# Efficiency"
   ]
  },
  {
   "cell_type": "code",
   "execution_count": 7,
   "metadata": {},
   "outputs": [
    {
     "name": "stdout",
     "output_type": "stream",
     "text": [
      "1 * 29278 = 29278\n",
      "16 * 178 = 2848\n",
      "25 * 78 = 1950\n",
      "64 * 16 = 1024\n",
      "256 * 2 = 512\n",
      "400 * 1 = 400\n"
     ]
    }
   ],
   "source": [
    "#Calculando los costos\n",
    "k=0\n",
    "for i in data['Proc.']:\n",
    "    aux = i * data['Time [s]'][k]\n",
    "    print(i,\"*\", data['Time [s]'][k],\"=\",aux)\n",
    "    Cost.append(aux)\n",
    "    k+=1\n",
    "# Cost"
   ]
  },
  {
   "cell_type": "code",
   "execution_count": 8,
   "metadata": {},
   "outputs": [
    {
     "name": "stdout",
     "output_type": "stream",
     "text": [
      "178 / 29278 = 0.006079650249333971\n",
      "178 / 178 = 1.0\n",
      "178 / 78 = 2.282051282051282\n",
      "178 / 16 = 11.125\n",
      "178 / 2 = 89.0\n",
      "178 / 1 = 178.0\n"
     ]
    }
   ],
   "source": [
    "#Calculando Aceleración Relativa con p'=16\n",
    "\n",
    "tp = data['Time [s]'][1]\n",
    "\n",
    "for i in data['Time [s]']:\n",
    "    aux = tp / i\n",
    "    print(tp,\"/\",i,\"=\",aux)\n",
    "    S_rel.append(aux)\n",
    "    \n",
    "# S_rel"
   ]
  },
  {
   "cell_type": "code",
   "execution_count": 9,
   "metadata": {},
   "outputs": [
    {
     "data": {
      "text/plain": [
       "0.006079650249333971"
      ]
     },
     "execution_count": 9,
     "metadata": {},
     "output_type": "execute_result"
    }
   ],
   "source": [
    "S_rel[0]"
   ]
  },
  {
   "cell_type": "code",
   "execution_count": 10,
   "metadata": {},
   "outputs": [
    {
     "name": "stdout",
     "output_type": "stream",
     "text": [
      "( 16 * 0.006079650249333971 ) / 1 = 0.09727440398934353\n",
      "( 16 * 1.0 ) / 16 = 1.0\n",
      "( 16 * 2.282051282051282 ) / 25 = 1.4605128205128204\n",
      "( 16 * 11.125 ) / 64 = 2.78125\n",
      "( 16 * 89.0 ) / 256 = 5.5625\n",
      "( 16 * 178.0 ) / 400 = 7.12\n"
     ]
    }
   ],
   "source": [
    "#Calculando Eficiencia Relativa con p'=16\n",
    "\n",
    "p = 16\n",
    "k = 0\n",
    "for i in data['Proc.']:\n",
    "    aux = (p* S_rel[k]) / i\n",
    "    print(\"(\",p,\"*\",S_rel[k],\") /\",i,\"=\",aux)\n",
    "    E_rel.append(aux)\n",
    "    k+=1\n",
    "    \n",
    "# E_rel"
   ]
  },
  {
   "cell_type": "code",
   "execution_count": 11,
   "metadata": {},
   "outputs": [
    {
     "name": "stdout",
     "output_type": "stream",
     "text": [
      "1 / 16 = 0.0625\n",
      "16 / 16 = 1.0\n",
      "25 / 16 = 1.5625\n",
      "64 / 16 = 4.0\n",
      "256 / 16 = 16.0\n",
      "400 / 16 = 25.0\n"
     ]
    }
   ],
   "source": [
    "# Calculando máxima Aceleración Relativa con p'=16\n",
    "\n",
    "for i in data['Proc.']:\n",
    "    aux = i / p\n",
    "    print(i,\"/\",p,\"=\",aux)\n",
    "    Max_a_rel.append(aux)\n",
    "\n",
    "# Max_a_rel"
   ]
  },
  {
   "cell_type": "code",
   "execution_count": 12,
   "metadata": {},
   "outputs": [
    {
     "data": {
      "text/html": [
       "<div>\n",
       "<style scoped>\n",
       "    .dataframe tbody tr th:only-of-type {\n",
       "        vertical-align: middle;\n",
       "    }\n",
       "\n",
       "    .dataframe tbody tr th {\n",
       "        vertical-align: top;\n",
       "    }\n",
       "\n",
       "    .dataframe thead th {\n",
       "        text-align: right;\n",
       "    }\n",
       "</style>\n",
       "<table border=\"1\" class=\"dataframe\">\n",
       "  <thead>\n",
       "    <tr style=\"text-align: right;\">\n",
       "      <th></th>\n",
       "      <th>Proc.</th>\n",
       "      <th>Time [s]</th>\n",
       "      <th>Speedup</th>\n",
       "      <th>Efficiency</th>\n",
       "      <th>Cost</th>\n",
       "      <th>Aceleracion_rel</th>\n",
       "      <th>Eficiencia_rel</th>\n",
       "      <th>Max_ac_rel</th>\n",
       "    </tr>\n",
       "  </thead>\n",
       "  <tbody>\n",
       "    <tr>\n",
       "      <td>0</td>\n",
       "      <td>1</td>\n",
       "      <td>29278</td>\n",
       "      <td>1.000000</td>\n",
       "      <td>1.000000</td>\n",
       "      <td>29278</td>\n",
       "      <td>0.006080</td>\n",
       "      <td>0.097274</td>\n",
       "      <td>0.0625</td>\n",
       "    </tr>\n",
       "    <tr>\n",
       "      <td>1</td>\n",
       "      <td>16</td>\n",
       "      <td>178</td>\n",
       "      <td>164.483146</td>\n",
       "      <td>10.280197</td>\n",
       "      <td>2848</td>\n",
       "      <td>1.000000</td>\n",
       "      <td>1.000000</td>\n",
       "      <td>1.0000</td>\n",
       "    </tr>\n",
       "    <tr>\n",
       "      <td>2</td>\n",
       "      <td>25</td>\n",
       "      <td>78</td>\n",
       "      <td>375.358974</td>\n",
       "      <td>15.014359</td>\n",
       "      <td>1950</td>\n",
       "      <td>2.282051</td>\n",
       "      <td>1.460513</td>\n",
       "      <td>1.5625</td>\n",
       "    </tr>\n",
       "    <tr>\n",
       "      <td>3</td>\n",
       "      <td>64</td>\n",
       "      <td>16</td>\n",
       "      <td>1829.875000</td>\n",
       "      <td>28.591797</td>\n",
       "      <td>1024</td>\n",
       "      <td>11.125000</td>\n",
       "      <td>2.781250</td>\n",
       "      <td>4.0000</td>\n",
       "    </tr>\n",
       "    <tr>\n",
       "      <td>4</td>\n",
       "      <td>256</td>\n",
       "      <td>2</td>\n",
       "      <td>14639.000000</td>\n",
       "      <td>57.183594</td>\n",
       "      <td>512</td>\n",
       "      <td>89.000000</td>\n",
       "      <td>5.562500</td>\n",
       "      <td>16.0000</td>\n",
       "    </tr>\n",
       "    <tr>\n",
       "      <td>5</td>\n",
       "      <td>400</td>\n",
       "      <td>1</td>\n",
       "      <td>29278.000000</td>\n",
       "      <td>73.195000</td>\n",
       "      <td>400</td>\n",
       "      <td>178.000000</td>\n",
       "      <td>7.120000</td>\n",
       "      <td>25.0000</td>\n",
       "    </tr>\n",
       "  </tbody>\n",
       "</table>\n",
       "</div>"
      ],
      "text/plain": [
       "   Proc.  Time [s]       Speedup  Efficiency   Cost  Aceleracion_rel  \\\n",
       "0      1     29278      1.000000    1.000000  29278         0.006080   \n",
       "1     16       178    164.483146   10.280197   2848         1.000000   \n",
       "2     25        78    375.358974   15.014359   1950         2.282051   \n",
       "3     64        16   1829.875000   28.591797   1024        11.125000   \n",
       "4    256         2  14639.000000   57.183594    512        89.000000   \n",
       "5    400         1  29278.000000   73.195000    400       178.000000   \n",
       "\n",
       "   Eficiencia_rel  Max_ac_rel  \n",
       "0        0.097274      0.0625  \n",
       "1        1.000000      1.0000  \n",
       "2        1.460513      1.5625  \n",
       "3        2.781250      4.0000  \n",
       "4        5.562500     16.0000  \n",
       "5        7.120000     25.0000  "
      ]
     },
     "execution_count": 12,
     "metadata": {},
     "output_type": "execute_result"
    }
   ],
   "source": [
    "# Agregando nuestros datos al dataframe\n",
    "data['Speedup'] = Speedup\n",
    "data['Efficiency'] = Efficiency\n",
    "data['Cost'] = Cost\n",
    "#Agregamos los valores relativos para graficar\n",
    "data['Aceleracion_rel'] = S_rel\n",
    "data['Eficiencia_rel'] = E_rel\n",
    "data['Max_ac_rel'] = Max_a_rel\n",
    "data"
   ]
  },
  {
   "cell_type": "code",
   "execution_count": 13,
   "metadata": {},
   "outputs": [
    {
     "data": {
      "image/png": "[encoded data removed]",
      "text/plain": [
       "<Figure size 432x288 with 1 Axes>"
      ]
     },
     "metadata": {
      "needs_background": "light"
     },
     "output_type": "display_data"
    }
   ],
   "source": [
    "# Graficando\n",
    "\n",
    "plt.grid()\n",
    "plt.plot(data['Proc.'],data['Speedup'],'o-',color='blue')\n",
    "plt.plot(data['Proc.'],data['Proc.'],color='orange')\n",
    "plt.legend(('Speedup','Procesadores'))\n",
    "plt.title('Velocidad ABSOLUTA')\n",
    "plt.show()"
   ]
  },
  {
   "cell_type": "code",
   "execution_count": 14,
   "metadata": {},
   "outputs": [
    {
     "data": {
      "image/png": "[encoded data removed]",
      "text/plain": [
       "<Figure size 432x288 with 1 Axes>"
      ]
     },
     "metadata": {
      "needs_background": "light"
     },
     "output_type": "display_data"
    }
   ],
   "source": [
    "maX = [1,1,1,1,1,1] # sabemos que la máxima eficiencia es = 1\n",
    "plt.grid()\n",
    "plt.plot(data['Proc.'],data['Efficiency'],'o-',color='blue')\n",
    "plt.plot(data['Proc.'],maX,color='orange')\n",
    "plt.xlabel(\"Procesadores\")\n",
    "plt.legend(('Eficiencia','Eficiencia Máxima'))\n",
    "plt.title('Eficiencia ABSOLUTA')\n",
    "plt.show()"
   ]
  },
  {
   "cell_type": "code",
   "execution_count": 15,
   "metadata": {},
   "outputs": [
    {
     "data": {
      "image/png": "[encoded data removed]",
      "text/plain": [
       "<Figure size 432x288 with 1 Axes>"
      ]
     },
     "metadata": {
      "needs_background": "light"
     },
     "output_type": "display_data"
    }
   ],
   "source": [
    "# Con los datos relativos\n",
    "plt.grid()\n",
    "plt.plot(data['Proc.'],data['Aceleracion_rel'],'o-',color='blue')\n",
    "plt.plot(data['Proc.'],data['Proc.'],color='orange')\n",
    "plt.plot(data['Proc.'],data['Max_ac_rel'],color='green')\n",
    "plt.xlabel(\"Procesadores\")\n",
    "plt.legend(('Eficiencia rel','Eficiencia Máxima','Max aceleración'))\n",
    "plt.title('Speedup RELATIVA')\n",
    "plt.show()\n",
    "#Nota, en la presentación se grafican a partir de p"
   ]
  },
  {
   "cell_type": "code",
   "execution_count": 16,
   "metadata": {},
   "outputs": [
    {
     "data": {
      "image/png": "[encoded data removed]",
      "text/plain": [
       "<Figure size 432x288 with 1 Axes>"
      ]
     },
     "metadata": {
      "needs_background": "light"
     },
     "output_type": "display_data"
    }
   ],
   "source": [
    "\n",
    "plt.grid()\n",
    "plt.plot(data['Proc.'],data['Eficiencia_rel'],'o-',color='blue')\n",
    "plt.plot(data['Proc.'],maX,color='orange')\n",
    "plt.xlabel(\"Procesadores\")\n",
    "plt.legend(('Eficiencia relativa','Eficiencia Máxima'))\n",
    "plt.title('Eficiencia RELATIVA')\n",
    "plt.show()\n",
    "\n",
    "#Nota, difiere con la presentación, puesto que no se grafica el primer punto, en lo personal, \n",
    "#No supe si debía eliminarlo o no, lo que me lleva a pensar que el primer dato es el atípico"
   ]
  },
  {
   "cell_type": "markdown",
   "metadata": {},
   "source": [
    "### Generar información similar al punto 2, sustituyendo el valor atípico por el valor mostrado en la transparencia 9.  Agregar estos datos al dataframe antes creado y realizar los gráficos correspondientes usando Matplotlib."
   ]
  },
  {
   "cell_type": "code",
   "execution_count": 17,
   "metadata": {},
   "outputs": [
    {
     "name": "stderr",
     "output_type": "stream",
     "text": [
      "/home/jhonny/anaconda3/lib/python3.7/site-packages/ipykernel_launcher.py:1: SettingWithCopyWarning: \n",
      "A value is trying to be set on a copy of a slice from a DataFrame\n",
      "\n",
      "See the caveats in the documentation: http://pandas.pydata.org/pandas-docs/stable/user_guide/indexing.html#returning-a-view-versus-a-copy\n",
      "  \"\"\"Entry point for launching an IPython kernel.\n"
     ]
    },
    {
     "data": {
      "text/html": [
       "<div>\n",
       "<style scoped>\n",
       "    .dataframe tbody tr th:only-of-type {\n",
       "        vertical-align: middle;\n",
       "    }\n",
       "\n",
       "    .dataframe tbody tr th {\n",
       "        vertical-align: top;\n",
       "    }\n",
       "\n",
       "    .dataframe thead th {\n",
       "        text-align: right;\n",
       "    }\n",
       "</style>\n",
       "<table border=\"1\" class=\"dataframe\">\n",
       "  <thead>\n",
       "    <tr style=\"text-align: right;\">\n",
       "      <th></th>\n",
       "      <th>Proc.</th>\n",
       "      <th>Time [s]</th>\n",
       "      <th>Speedup</th>\n",
       "      <th>Efficiency</th>\n",
       "      <th>Cost</th>\n",
       "      <th>Aceleracion_rel</th>\n",
       "      <th>Eficiencia_rel</th>\n",
       "      <th>Max_ac_rel</th>\n",
       "    </tr>\n",
       "  </thead>\n",
       "  <tbody>\n",
       "    <tr>\n",
       "      <td>0</td>\n",
       "      <td>1</td>\n",
       "      <td>430</td>\n",
       "      <td>1.000000</td>\n",
       "      <td>1.000000</td>\n",
       "      <td>29278</td>\n",
       "      <td>0.006080</td>\n",
       "      <td>0.097274</td>\n",
       "      <td>0.0625</td>\n",
       "    </tr>\n",
       "    <tr>\n",
       "      <td>1</td>\n",
       "      <td>16</td>\n",
       "      <td>178</td>\n",
       "      <td>164.483146</td>\n",
       "      <td>10.280197</td>\n",
       "      <td>2848</td>\n",
       "      <td>1.000000</td>\n",
       "      <td>1.000000</td>\n",
       "      <td>1.0000</td>\n",
       "    </tr>\n",
       "    <tr>\n",
       "      <td>2</td>\n",
       "      <td>25</td>\n",
       "      <td>78</td>\n",
       "      <td>375.358974</td>\n",
       "      <td>15.014359</td>\n",
       "      <td>1950</td>\n",
       "      <td>2.282051</td>\n",
       "      <td>1.460513</td>\n",
       "      <td>1.5625</td>\n",
       "    </tr>\n",
       "    <tr>\n",
       "      <td>3</td>\n",
       "      <td>64</td>\n",
       "      <td>16</td>\n",
       "      <td>1829.875000</td>\n",
       "      <td>28.591797</td>\n",
       "      <td>1024</td>\n",
       "      <td>11.125000</td>\n",
       "      <td>2.781250</td>\n",
       "      <td>4.0000</td>\n",
       "    </tr>\n",
       "    <tr>\n",
       "      <td>4</td>\n",
       "      <td>256</td>\n",
       "      <td>2</td>\n",
       "      <td>14639.000000</td>\n",
       "      <td>57.183594</td>\n",
       "      <td>512</td>\n",
       "      <td>89.000000</td>\n",
       "      <td>5.562500</td>\n",
       "      <td>16.0000</td>\n",
       "    </tr>\n",
       "    <tr>\n",
       "      <td>5</td>\n",
       "      <td>400</td>\n",
       "      <td>1</td>\n",
       "      <td>29278.000000</td>\n",
       "      <td>73.195000</td>\n",
       "      <td>400</td>\n",
       "      <td>178.000000</td>\n",
       "      <td>7.120000</td>\n",
       "      <td>25.0000</td>\n",
       "    </tr>\n",
       "  </tbody>\n",
       "</table>\n",
       "</div>"
      ],
      "text/plain": [
       "   Proc.  Time [s]       Speedup  Efficiency   Cost  Aceleracion_rel  \\\n",
       "0      1       430      1.000000    1.000000  29278         0.006080   \n",
       "1     16       178    164.483146   10.280197   2848         1.000000   \n",
       "2     25        78    375.358974   15.014359   1950         2.282051   \n",
       "3     64        16   1829.875000   28.591797   1024        11.125000   \n",
       "4    256         2  14639.000000   57.183594    512        89.000000   \n",
       "5    400         1  29278.000000   73.195000    400       178.000000   \n",
       "\n",
       "   Eficiencia_rel  Max_ac_rel  \n",
       "0        0.097274      0.0625  \n",
       "1        1.000000      1.0000  \n",
       "2        1.460513      1.5625  \n",
       "3        2.781250      4.0000  \n",
       "4        5.562500     16.0000  \n",
       "5        7.120000     25.0000  "
      ]
     },
     "execution_count": 17,
     "metadata": {},
     "output_type": "execute_result"
    }
   ],
   "source": [
    "data['Time [s]'][0]= 430\n",
    "data"
   ]
  },
  {
   "cell_type": "code",
   "execution_count": 18,
   "metadata": {},
   "outputs": [],
   "source": [
    "Speedup = []\n",
    "Efficiency = []\n",
    "Cost = []\n",
    "S_rel = []\n",
    "E_rel = []\n",
    "Max_a_rel = []"
   ]
  },
  {
   "cell_type": "code",
   "execution_count": 19,
   "metadata": {},
   "outputs": [
    {
     "name": "stdout",
     "output_type": "stream",
     "text": [
      "430 / 430 = 1.0\n",
      "430 / 178 = 2.4157303370786516\n",
      "430 / 78 = 5.512820512820513\n",
      "430 / 16 = 26.875\n",
      "430 / 2 = 215.0\n",
      "430 / 1 = 430.0\n"
     ]
    }
   ],
   "source": [
    "#Calculando el Speedup ABSOLUTO\n",
    "for i in data['Time [s]']:\n",
    "    aux = data['Time [s]'][0] / i\n",
    "    print(data['Time [s]'][0] ,\"/\", i,\"=\",aux)\n",
    "    Speedup.append(aux)\n",
    "# Speedup"
   ]
  },
  {
   "cell_type": "code",
   "execution_count": 20,
   "metadata": {},
   "outputs": [
    {
     "name": "stdout",
     "output_type": "stream",
     "text": [
      "1.0 / 1 = 1.0\n",
      "2.4157303370786516 / 16 = 0.15098314606741572\n",
      "5.512820512820513 / 25 = 0.2205128205128205\n",
      "26.875 / 64 = 0.419921875\n",
      "215.0 / 256 = 0.83984375\n",
      "430.0 / 400 = 1.075\n"
     ]
    }
   ],
   "source": [
    "#Calculando la eficiencia ABSOLUTA\n",
    "k=0\n",
    "for i in Speedup:\n",
    "    aux = i / data['Proc.'][k]\n",
    "    print(i,\"/\", data['Proc.'][k],\"=\",aux)\n",
    "    Efficiency.append(aux)\n",
    "    k+=1\n",
    "# Efficiency"
   ]
  },
  {
   "cell_type": "code",
   "execution_count": 21,
   "metadata": {},
   "outputs": [
    {
     "name": "stdout",
     "output_type": "stream",
     "text": [
      "1 * 430 = 430\n",
      "16 * 178 = 2848\n",
      "25 * 78 = 1950\n",
      "64 * 16 = 1024\n",
      "256 * 2 = 512\n",
      "400 * 1 = 400\n"
     ]
    }
   ],
   "source": [
    "#Calculando los costos\n",
    "k=0\n",
    "for i in data['Proc.']:\n",
    "    aux = i * data['Time [s]'][k]\n",
    "    print(i,\"*\", data['Time [s]'][k],\"=\",aux)\n",
    "    Cost.append(aux)\n",
    "    k+=1\n",
    "# Cost"
   ]
  },
  {
   "cell_type": "code",
   "execution_count": 22,
   "metadata": {},
   "outputs": [
    {
     "name": "stdout",
     "output_type": "stream",
     "text": [
      "178 / 430 = 0.413953488372093\n",
      "178 / 178 = 1.0\n",
      "178 / 78 = 2.282051282051282\n",
      "178 / 16 = 11.125\n",
      "178 / 2 = 89.0\n",
      "178 / 1 = 178.0\n"
     ]
    }
   ],
   "source": [
    "#Calculando Aceleración Relativa con p'=16\n",
    "\n",
    "tp = data['Time [s]'][1]\n",
    "\n",
    "for i in data['Time [s]']:\n",
    "    aux = tp / i\n",
    "    print(tp,\"/\",i,\"=\",aux)\n",
    "    S_rel.append(aux)\n",
    "    \n",
    "# S_rel"
   ]
  },
  {
   "cell_type": "code",
   "execution_count": 23,
   "metadata": {},
   "outputs": [
    {
     "name": "stdout",
     "output_type": "stream",
     "text": [
      "( 16 * 0.413953488372093 ) / 1 = 6.623255813953488\n",
      "( 16 * 1.0 ) / 16 = 1.0\n",
      "( 16 * 2.282051282051282 ) / 25 = 1.4605128205128204\n",
      "( 16 * 11.125 ) / 64 = 2.78125\n",
      "( 16 * 89.0 ) / 256 = 5.5625\n",
      "( 16 * 178.0 ) / 400 = 7.12\n"
     ]
    }
   ],
   "source": [
    "#Calculando Eficiencia Relativa con p'=16\n",
    "\n",
    "p = 16\n",
    "k = 0\n",
    "for i in data['Proc.']:\n",
    "    aux = (p* S_rel[k]) / i\n",
    "    print(\"(\",p,\"*\",S_rel[k],\") /\",i,\"=\",aux)\n",
    "    E_rel.append(aux)\n",
    "    k+=1\n",
    "    \n",
    "# E_rel"
   ]
  },
  {
   "cell_type": "code",
   "execution_count": 24,
   "metadata": {},
   "outputs": [
    {
     "name": "stdout",
     "output_type": "stream",
     "text": [
      "1 / 16 = 0.0625\n",
      "16 / 16 = 1.0\n",
      "25 / 16 = 1.5625\n",
      "64 / 16 = 4.0\n",
      "256 / 16 = 16.0\n",
      "400 / 16 = 25.0\n"
     ]
    }
   ],
   "source": [
    "# Calculando máxima Aceleración Relativa con p'=16\n",
    "\n",
    "for i in data['Proc.']:\n",
    "    aux = i / p\n",
    "    print(i,\"/\",p,\"=\",aux)\n",
    "    Max_a_rel.append(aux)\n",
    "\n",
    "# Max_a_rel"
   ]
  },
  {
   "cell_type": "code",
   "execution_count": 25,
   "metadata": {},
   "outputs": [
    {
     "data": {
      "text/html": [
       "<div>\n",
       "<style scoped>\n",
       "    .dataframe tbody tr th:only-of-type {\n",
       "        vertical-align: middle;\n",
       "    }\n",
       "\n",
       "    .dataframe tbody tr th {\n",
       "        vertical-align: top;\n",
       "    }\n",
       "\n",
       "    .dataframe thead th {\n",
       "        text-align: right;\n",
       "    }\n",
       "</style>\n",
       "<table border=\"1\" class=\"dataframe\">\n",
       "  <thead>\n",
       "    <tr style=\"text-align: right;\">\n",
       "      <th></th>\n",
       "      <th>Proc.</th>\n",
       "      <th>Time [s]</th>\n",
       "      <th>Speedup</th>\n",
       "      <th>Efficiency</th>\n",
       "      <th>Cost</th>\n",
       "      <th>Aceleracion_rel</th>\n",
       "      <th>Eficiencia_rel</th>\n",
       "      <th>Max_ac_rel</th>\n",
       "    </tr>\n",
       "  </thead>\n",
       "  <tbody>\n",
       "    <tr>\n",
       "      <td>0</td>\n",
       "      <td>1</td>\n",
       "      <td>430</td>\n",
       "      <td>1.000000</td>\n",
       "      <td>1.000000</td>\n",
       "      <td>430</td>\n",
       "      <td>0.413953</td>\n",
       "      <td>6.623256</td>\n",
       "      <td>0.0625</td>\n",
       "    </tr>\n",
       "    <tr>\n",
       "      <td>1</td>\n",
       "      <td>16</td>\n",
       "      <td>178</td>\n",
       "      <td>2.415730</td>\n",
       "      <td>0.150983</td>\n",
       "      <td>2848</td>\n",
       "      <td>1.000000</td>\n",
       "      <td>1.000000</td>\n",
       "      <td>1.0000</td>\n",
       "    </tr>\n",
       "    <tr>\n",
       "      <td>2</td>\n",
       "      <td>25</td>\n",
       "      <td>78</td>\n",
       "      <td>5.512821</td>\n",
       "      <td>0.220513</td>\n",
       "      <td>1950</td>\n",
       "      <td>2.282051</td>\n",
       "      <td>1.460513</td>\n",
       "      <td>1.5625</td>\n",
       "    </tr>\n",
       "    <tr>\n",
       "      <td>3</td>\n",
       "      <td>64</td>\n",
       "      <td>16</td>\n",
       "      <td>26.875000</td>\n",
       "      <td>0.419922</td>\n",
       "      <td>1024</td>\n",
       "      <td>11.125000</td>\n",
       "      <td>2.781250</td>\n",
       "      <td>4.0000</td>\n",
       "    </tr>\n",
       "    <tr>\n",
       "      <td>4</td>\n",
       "      <td>256</td>\n",
       "      <td>2</td>\n",
       "      <td>215.000000</td>\n",
       "      <td>0.839844</td>\n",
       "      <td>512</td>\n",
       "      <td>89.000000</td>\n",
       "      <td>5.562500</td>\n",
       "      <td>16.0000</td>\n",
       "    </tr>\n",
       "    <tr>\n",
       "      <td>5</td>\n",
       "      <td>400</td>\n",
       "      <td>1</td>\n",
       "      <td>430.000000</td>\n",
       "      <td>1.075000</td>\n",
       "      <td>400</td>\n",
       "      <td>178.000000</td>\n",
       "      <td>7.120000</td>\n",
       "      <td>25.0000</td>\n",
       "    </tr>\n",
       "  </tbody>\n",
       "</table>\n",
       "</div>"
      ],
      "text/plain": [
       "   Proc.  Time [s]     Speedup  Efficiency  Cost  Aceleracion_rel  \\\n",
       "0      1       430    1.000000    1.000000   430         0.413953   \n",
       "1     16       178    2.415730    0.150983  2848         1.000000   \n",
       "2     25        78    5.512821    0.220513  1950         2.282051   \n",
       "3     64        16   26.875000    0.419922  1024        11.125000   \n",
       "4    256         2  215.000000    0.839844   512        89.000000   \n",
       "5    400         1  430.000000    1.075000   400       178.000000   \n",
       "\n",
       "   Eficiencia_rel  Max_ac_rel  \n",
       "0        6.623256      0.0625  \n",
       "1        1.000000      1.0000  \n",
       "2        1.460513      1.5625  \n",
       "3        2.781250      4.0000  \n",
       "4        5.562500     16.0000  \n",
       "5        7.120000     25.0000  "
      ]
     },
     "execution_count": 25,
     "metadata": {},
     "output_type": "execute_result"
    }
   ],
   "source": [
    "# cambiando los datos del dataframe\n",
    "data['Speedup'] = Speedup\n",
    "data['Efficiency'] = Efficiency\n",
    "data['Cost'] = Cost\n",
    "#Agregamos los valores relativos para graficar\n",
    "data['Aceleracion_rel'] = S_rel\n",
    "data['Eficiencia_rel'] = E_rel\n",
    "data['Max_ac_rel'] = Max_a_rel\n",
    "data"
   ]
  },
  {
   "cell_type": "code",
   "execution_count": 26,
   "metadata": {},
   "outputs": [
    {
     "data": {
      "image/png": "[encoded data removed]",
      "text/plain": [
       "<Figure size 432x288 with 1 Axes>"
      ]
     },
     "metadata": {
      "needs_background": "light"
     },
     "output_type": "display_data"
    }
   ],
   "source": [
    "# Graficando nuevamente\n",
    "\n",
    "plt.grid()\n",
    "plt.plot(data['Proc.'],data['Speedup'],'o-',color='blue')\n",
    "plt.plot(data['Proc.'],data['Proc.'],color='orange')\n",
    "plt.legend(('Speedup','Procesadores'))\n",
    "plt.title('Velocidad ABSOLUTA')\n",
    "plt.show()"
   ]
  },
  {
   "cell_type": "code",
   "execution_count": 27,
   "metadata": {},
   "outputs": [
    {
     "data": {
      "image/png": "[encoded data removed]",
      "text/plain": [
       "<Figure size 432x288 with 1 Axes>"
      ]
     },
     "metadata": {
      "needs_background": "light"
     },
     "output_type": "display_data"
    }
   ],
   "source": [
    "maX = [1,1,1,1,1,1] # sabemos que la máxima eficiencia es = 1\n",
    "plt.grid()\n",
    "plt.plot(data['Proc.'],data['Efficiency'],'o-',color='blue')\n",
    "plt.plot(data['Proc.'],maX,color='orange')\n",
    "plt.xlabel(\"Procesadores\")\n",
    "plt.legend(('Eficiencia','Eficiencia Máxima'))\n",
    "plt.title('Eficiencia ABSOLUTA')\n",
    "plt.show()"
   ]
  },
  {
   "cell_type": "code",
   "execution_count": 28,
   "metadata": {},
   "outputs": [
    {
     "data": {
      "image/png": "[encoded data removed]",
      "text/plain": [
       "<Figure size 432x288 with 1 Axes>"
      ]
     },
     "metadata": {
      "needs_background": "light"
     },
     "output_type": "display_data"
    }
   ],
   "source": [
    "# Con los datos relativos\n",
    "plt.grid()\n",
    "plt.plot(data['Proc.'],data['Aceleracion_rel'],'o-',color='blue')\n",
    "plt.plot(data['Proc.'],data['Proc.'],color='orange')\n",
    "plt.plot(data['Proc.'],data['Max_ac_rel'],color='green')\n",
    "plt.xlabel(\"Procesadores\")\n",
    "plt.legend(('Eficiencia rel','Eficiencia Máxima','Max aceleración'))\n",
    "plt.title('Speedup RELATIVA')\n",
    "plt.show()"
   ]
  },
  {
   "cell_type": "code",
   "execution_count": 29,
   "metadata": {},
   "outputs": [
    {
     "data": {
      "image/png": "[encoded data removed]",
      "text/plain": [
       "<Figure size 432x288 with 1 Axes>"
      ]
     },
     "metadata": {
      "needs_background": "light"
     },
     "output_type": "display_data"
    }
   ],
   "source": [
    "plt.grid()\n",
    "plt.plot(data['Proc.'],data['Eficiencia_rel'],'o-',color='blue')\n",
    "plt.plot(data['Proc.'],maX,color='orange')\n",
    "plt.xlabel(\"Procesadores\")\n",
    "plt.legend(('Eficiencia relativa','Eficiencia Máxima'))\n",
    "plt.title('Eficiencia RELATIVA')\n",
    "plt.show()"
   ]
  }
 ],
 "metadata": {
  "kernelspec": {
   "display_name": "Python 3",
   "language": "python",
   "name": "python3"
  },
  "language_info": {
   "codemirror_mode": {
    "name": "ipython",
    "version": 3
   },
   "file_extension": ".py",
   "mimetype": "text/x-python",
   "name": "python",
   "nbconvert_exporter": "python",
   "pygments_lexer": "ipython3",
   "version": "3.7.3"
  }
 },
 "nbformat": 4,
 "nbformat_minor": 2
}
